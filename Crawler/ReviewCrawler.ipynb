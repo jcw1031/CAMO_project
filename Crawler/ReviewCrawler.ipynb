{
 "cells": [
  {
   "cell_type": "markdown",
   "metadata": {},
   "source": [
    "### 카카오맵 브라우저 들어가기"
   ]
  },
  {
   "cell_type": "code",
   "execution_count": 86,
   "metadata": {},
   "outputs": [
    {
     "name": "stderr",
     "output_type": "stream",
     "text": [
      "C:\\Users\\rkdco\\AppData\\Local\\Temp\\ipykernel_18252\\4030987250.py:6: DeprecationWarning: executable_path has been deprecated, please pass in a Service object\n",
      "  driver=webdriver.Chrome(\"chromedriver.exe\")\n"
     ]
    }
   ],
   "source": [
    "from selenium import webdriver\n",
    "from selenium.webdriver.common.by import By\n",
    "from selenium.webdriver.common.keys import Keys\n",
    "import time\n",
    "\n",
    "driver=webdriver.Chrome(\"chromedriver.exe\")\n",
    "url=\"https://map.kakao.com/\"\n",
    "driver.get(url)\n",
    "\n",
    "cafe_name=[]\n",
    "cafe_review=[]\n",
    "cafe_rating=[]"
   ]
  },
  {
   "cell_type": "markdown",
   "metadata": {},
   "source": [
    "### 검색어 검색"
   ]
  },
  {
   "cell_type": "code",
   "execution_count": 87,
   "metadata": {},
   "outputs": [],
   "source": [
    "search=\"#search\\.keyword\\.query\"\n",
    "elem=driver.find_element(By.CSS_SELECTOR,search)\n",
    "elem.send_keys(\"부대동 카페\")\n",
    "elem.send_keys(Keys.ENTER)"
   ]
  },
  {
   "cell_type": "markdown",
   "metadata": {},
   "source": [
    "### 카페리스트 초기화"
   ]
  },
  {
   "cell_type": "code",
   "execution_count": 88,
   "metadata": {},
   "outputs": [],
   "source": [
    "time.sleep(1)\n",
    "driver.find_element(By.XPATH,'//*[@id=\"info.search.place.more\"]').send_keys(Keys.ENTER)\n",
    "time.sleep(1)\n",
    "driver.find_element(By.CSS_SELECTOR,\"#info\\.search\\.page\\.no1\").send_keys(Keys.ENTER)"
   ]
  },
  {
   "cell_type": "markdown",
   "metadata": {},
   "source": [
    "### 카페 이름 / 카페 리뷰 상세페이지 링크 저장"
   ]
  },
  {
   "cell_type": "code",
   "execution_count": null,
   "metadata": {},
   "outputs": [],
   "source": [
    "cafes=driver.find_element(By.ID,\"info.search.place.list\")\n",
    "cafeLi=cafes.find_elements(By.TAG_NAME,'li')\n",
    "href=[]\n",
    "name=[]\n",
    "rating=[]\n",
    "for li in cafeLi:\n",
    "    reviewClass=li.find_element(By.CLASS_NAME,\"numberofscore\")\n",
    "    tmp=reviewClass.text.split(\"건\")\n",
    "    if(int(tmp[0])>0) :\n",
    "        strongTag=li.find_element(By.TAG_NAME,'strong')\n",
    "        name.append(strongTag.find_element(By.CLASS_NAME,\"link_name\").text)\n",
    "\n",
    "        ratingClass=li.find_element(By.CLASS_NAME,\"score\")\n",
    "        ratingTxt=ratingClass.find_element(By.CLASS_NAME,\"num\")\n",
    "\n",
    "        href.append(reviewClass.get_attribute('href'))\n",
    "        "
   ]
  },
  {
   "cell_type": "markdown",
   "metadata": {},
   "source": [
    "### 각 가게 당 리뷰 크롤링"
   ]
  },
  {
   "cell_type": "code",
   "execution_count": 94,
   "metadata": {},
   "outputs": [],
   "source": [
    "def reviewMore():\n",
    "    elem=driver.find_element(By.LINK_TEXT,\"후기 더보기\")\n",
    "    elem.click()\n",
    "    time.sleep(0.5)  "
   ]
  },
  {
   "cell_type": "code",
   "execution_count": 97,
   "metadata": {},
   "outputs": [
    {
     "name": "stdout",
     "output_type": "stream",
     "text": [
      "11\n",
      "6\n",
      "1\n",
      "1\n",
      "1\n",
      "3\n",
      "8\n",
      "10\n"
     ]
    }
   ],
   "source": [
    "for i in range(0,len(href)):\n",
    "    driver.get(href[i])\n",
    "    time.sleep(2)\n",
    "    \n",
    "    cnt=driver.find_element(By.CSS_SELECTOR,'#mArticle > div.cont_evaluation > strong.total_evaluation > span')\n",
    "    print(cnt.text)\n",
    "    reviewCnt=int(cnt.text)\n",
    "    if(reviewCnt>0 and reviewCnt<=3) :\n",
    "        cafe_review.append(driver.find_elements(By.CLASS_NAME,'txt_comment'))\n",
    "\n",
    "    elif(reviewCnt>3 and reviewCnt<=8 ):\n",
    "        reviewMore()\n",
    "        cafe_review.append(driver.find_elements(By.CLASS_NAME,'txt_comment'))\n",
    "\n",
    "    elif(reviewCnt>8):\n",
    "        reviewMore()\n",
    "        reviewMore()\n",
    "        cafe_review.append(driver.find_elements(By.CLASS_NAME,'txt_comment'))\n",
    "    "
   ]
  },
  {
   "cell_type": "code",
   "execution_count": 98,
   "metadata": {},
   "outputs": [],
   "source": [
    "cafe_review.clear()"
   ]
  },
  {
   "cell_type": "markdown",
   "metadata": {},
   "source": [
    "### 리뷰 상세 페이지 리뷰 크롤링"
   ]
  },
  {
   "cell_type": "code",
   "execution_count": null,
   "metadata": {},
   "outputs": [],
   "source": [
    "driver.get(href[0])\n",
    "time.sleep(2)\n",
    "\n",
    "cnt=driver.find_element(By.XPATH,'//*[@id=\"mArticle\"]/div[7]/strong[1]/span')\n",
    "reviewCnt=int(cnt.text)\n",
    "if(reviewCnt>0 and reviewCnt<=3) :\n",
    "    comment=driver.find_elements(By.CLASS_NAME,'txt_comment')\n",
    "\n",
    "elif(reviewCnt>3 and reviewCnt<=8 ):\n",
    "    reviewMore()\n",
    "    comment=driver.find_elements(By.CLASS_NAME,'txt_comment')\n",
    "\n",
    "elif(reviewCnt>8):\n",
    "    reviewMore()\n",
    "    reviewMore()\n",
    "    comment=driver.find_elements(By.CLASS_NAME,'txt_comment')\n",
    "\n",
    "for i in range(0,len(comment)):\n",
    "    print(comment[i].text)"
   ]
  },
  {
   "cell_type": "code",
   "execution_count": null,
   "metadata": {},
   "outputs": [],
   "source": [
    "\n",
    "#카페 개수 세기\n",
    "def page_cafe_cnt():\n",
    "    page_cafe=\"#info\\.search\\.place\\.list > li\"\n",
    "    result=len(driver.find_elements(By.CSS_SELECTOR,page_cafe))\n",
    "    return result\n",
    "    "
   ]
  }
 ],
 "metadata": {
  "kernelspec": {
   "display_name": "Python 3.10.7 64-bit",
   "language": "python",
   "name": "python3"
  },
  "language_info": {
   "codemirror_mode": {
    "name": "ipython",
    "version": 3
   },
   "file_extension": ".py",
   "mimetype": "text/x-python",
   "name": "python",
   "nbconvert_exporter": "python",
   "pygments_lexer": "ipython3",
   "version": "3.10.7"
  },
  "orig_nbformat": 4,
  "vscode": {
   "interpreter": {
    "hash": "52634da84371cba311ea128a5ea7cdc41ff074b781779e754b270ff9f8153cee"
   }
  }
 },
 "nbformat": 4,
 "nbformat_minor": 2
}
